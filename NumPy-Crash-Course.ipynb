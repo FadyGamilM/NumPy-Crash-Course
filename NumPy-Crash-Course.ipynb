{
 "cells": [
  {
   "cell_type": "code",
   "execution_count": 92,
   "id": "2bc01364",
   "metadata": {},
   "outputs": [],
   "source": [
    "import numpy as np\n",
    "import pandas as pd"
   ]
  },
  {
   "cell_type": "markdown",
   "id": "1a61a7fc",
   "metadata": {},
   "source": [
    "# 1- DataTypes & Attributes"
   ]
  },
  {
   "cell_type": "code",
   "execution_count": 27,
   "id": "a0301dc5",
   "metadata": {},
   "outputs": [],
   "source": [
    "# NumPy's data type is ndarray, this is the main data type in numpy\n",
    "## => To Create a 1D numpy array : \n",
    "# IMPORTANT: IF YOU NEED TO DEFINE VECTOR, USE 1D NUMPY\n",
    "A1D = np.array([1, 2, 3, 4])"
   ]
  },
  {
   "cell_type": "code",
   "execution_count": 28,
   "id": "0da87533",
   "metadata": {},
   "outputs": [
    {
     "data": {
      "text/plain": [
       "numpy.ndarray"
      ]
     },
     "execution_count": 28,
     "metadata": {},
     "output_type": "execute_result"
    }
   ],
   "source": [
    "## => To Check its type :\n",
    "type(A1D)"
   ]
  },
  {
   "cell_type": "code",
   "execution_count": 29,
   "id": "7d581a04",
   "metadata": {},
   "outputs": [
    {
     "data": {
      "text/plain": [
       "(2, 3)"
      ]
     },
     "execution_count": 29,
     "metadata": {},
     "output_type": "execute_result"
    }
   ],
   "source": [
    "## => To Create a 2D numpy array :\n",
    "# IMPORTANT: IF YOU NEED TO DEFINE MATRIX, USE 2D NUMPY\n",
    "A2D = np.array( [ [1, 2, 3], [4, 5, 6] ] )\n",
    "A2D.shape # 2-rows, 3-columns"
   ]
  },
  {
   "cell_type": "markdown",
   "id": "dddb1cba",
   "metadata": {},
   "source": [
    "# 2- Manipulate NumPy Arrays"
   ]
  },
  {
   "cell_type": "markdown",
   "id": "9576c299",
   "metadata": {},
   "source": [
    "### 2.1- Arithmetic.."
   ]
  },
  {
   "cell_type": "markdown",
   "id": "bee0d3ae",
   "metadata": {},
   "source": [
    "##### 2.1.1- Addition between vector and matrix"
   ]
  },
  {
   "cell_type": "code",
   "execution_count": 30,
   "id": "072d4781",
   "metadata": {},
   "outputs": [],
   "source": [
    "# if you need to add :\n",
    "a1 = np.array([4, 6, 8])\n",
    "A1 = np.array([[1, 1, 1],[1, 1, 1]])"
   ]
  },
  {
   "cell_type": "code",
   "execution_count": 31,
   "id": "1208a959",
   "metadata": {},
   "outputs": [
    {
     "data": {
      "text/plain": [
       "array([[5, 7, 9],\n",
       "       [5, 7, 9]])"
      ]
     },
     "execution_count": 31,
     "metadata": {},
     "output_type": "execute_result"
    }
   ],
   "source": [
    "# To Apply addition btn vector and matrix, each matrix row must have the same shape as vector:\n",
    "# vector=[a1,a2,a3], matrix=[[A1,A2,A3],[A1,A2,A3]]\n",
    "# Result=[[A1+a1, A2+a2, A3+a3],[...]] -> Same Shape as matrix\n",
    "sum1 = a1 + A1\n",
    "sum1"
   ]
  },
  {
   "cell_type": "markdown",
   "id": "6fce0129",
   "metadata": {},
   "source": [
    "##### 2.1.2- Multiplication between vector and matrix"
   ]
  },
  {
   "cell_type": "code",
   "execution_count": 32,
   "id": "349656b4",
   "metadata": {},
   "outputs": [
    {
     "data": {
      "text/plain": [
       "array([[4, 6, 8],\n",
       "       [4, 6, 8]])"
      ]
     },
     "execution_count": 32,
     "metadata": {},
     "output_type": "execute_result"
    }
   ],
   "source": [
    "# *** THIS IS NOT MATRIX MULTIPLICATION ***\n",
    "# * btn matrix and vector is done by multiply each item from vector to its corresponding item from matrix.\n",
    "mul1 = a1 * A1 \n",
    "mul1"
   ]
  },
  {
   "cell_type": "markdown",
   "id": "7f3cbf8b",
   "metadata": {},
   "source": [
    "### 2.1- Aggregation..\n",
    "`Aggregation` : Perfoming same operation on a number of things "
   ]
  },
  {
   "cell_type": "code",
   "execution_count": 33,
   "id": "af58341f",
   "metadata": {},
   "outputs": [],
   "source": [
    "x = np.array([1,3,5,7])\n"
   ]
  },
  {
   "cell_type": "code",
   "execution_count": 34,
   "id": "ca4daf01",
   "metadata": {},
   "outputs": [
    {
     "data": {
      "text/plain": [
       "16"
      ]
     },
     "execution_count": 34,
     "metadata": {},
     "output_type": "execute_result"
    }
   ],
   "source": [
    "# sum(x) will find sum of all items and return the result\n",
    "## ==> but always use python methods with python datatypes\n",
    "sum(x)"
   ]
  },
  {
   "cell_type": "code",
   "execution_count": 35,
   "id": "55a3ab4c",
   "metadata": {},
   "outputs": [
    {
     "data": {
      "text/plain": [
       "16"
      ]
     },
     "execution_count": 35,
     "metadata": {},
     "output_type": "execute_result"
    }
   ],
   "source": [
    "# np.sum(x) will find sum of all items and return the result\n",
    "## ==< but always use NumPy methods with Numpy arraies\n",
    "np.sum(x)"
   ]
  },
  {
   "cell_type": "code",
   "execution_count": 36,
   "id": "98fbb7a3",
   "metadata": {},
   "outputs": [],
   "source": [
    "x = np.array([[1,1,1],[1,1,1]])"
   ]
  },
  {
   "cell_type": "code",
   "execution_count": 37,
   "id": "766003ba",
   "metadata": {},
   "outputs": [
    {
     "data": {
      "text/plain": [
       "1.0"
      ]
     },
     "execution_count": 37,
     "metadata": {},
     "output_type": "execute_result"
    }
   ],
   "source": [
    "np.mean(x)"
   ]
  },
  {
   "cell_type": "code",
   "execution_count": 38,
   "id": "560eedaa",
   "metadata": {},
   "outputs": [
    {
     "data": {
      "text/plain": [
       "1"
      ]
     },
     "execution_count": 38,
     "metadata": {},
     "output_type": "execute_result"
    }
   ],
   "source": [
    "np.max(x)"
   ]
  },
  {
   "cell_type": "code",
   "execution_count": 39,
   "id": "6f25507e",
   "metadata": {},
   "outputs": [
    {
     "data": {
      "text/plain": [
       "0.0"
      ]
     },
     "execution_count": 39,
     "metadata": {},
     "output_type": "execute_result"
    }
   ],
   "source": [
    "np.std(x)"
   ]
  },
  {
   "cell_type": "markdown",
   "id": "ffd6321d",
   "metadata": {},
   "source": [
    "# Exercise to wrap-up .."
   ]
  },
  {
   "cell_type": "code",
   "execution_count": 50,
   "id": "160a5013",
   "metadata": {},
   "outputs": [],
   "source": [
    "# Generate Random values to be the prices for all items that sold on each day\n",
    "np.random.seed(0)\n",
    "sales_amount = np.random.randint(15, size=(5,3))"
   ]
  },
  {
   "cell_type": "code",
   "execution_count": 51,
   "id": "26ac66da",
   "metadata": {},
   "outputs": [
    {
     "data": {
      "text/plain": [
       "array([[12,  5,  0],\n",
       "       [ 3, 11,  3],\n",
       "       [ 7,  9,  3],\n",
       "       [ 5,  2,  4],\n",
       "       [ 7,  6,  8]])"
      ]
     },
     "execution_count": 51,
     "metadata": {},
     "output_type": "execute_result"
    }
   ],
   "source": [
    "sales_amount"
   ]
  },
  {
   "cell_type": "code",
   "execution_count": 52,
   "id": "6abdbfd9",
   "metadata": {},
   "outputs": [],
   "source": [
    "# Generate the dataFrame and fill it with the random prices\n",
    "Electronics_store = pd.DataFrame(\n",
    "    sales_amount,\n",
    "    index=[\"Mon\", \"Tues\", \"Wed\", \"Thurs\", \"Fri\"],\n",
    "    columns=[\"GPS601\", \"GPS803\", \"GPS770\"])"
   ]
  },
  {
   "cell_type": "code",
   "execution_count": 53,
   "id": "4f9a7ff8",
   "metadata": {},
   "outputs": [
    {
     "data": {
      "text/html": [
       "<div>\n",
       "<style scoped>\n",
       "    .dataframe tbody tr th:only-of-type {\n",
       "        vertical-align: middle;\n",
       "    }\n",
       "\n",
       "    .dataframe tbody tr th {\n",
       "        vertical-align: top;\n",
       "    }\n",
       "\n",
       "    .dataframe thead th {\n",
       "        text-align: right;\n",
       "    }\n",
       "</style>\n",
       "<table border=\"1\" class=\"dataframe\">\n",
       "  <thead>\n",
       "    <tr style=\"text-align: right;\">\n",
       "      <th></th>\n",
       "      <th>GPS601</th>\n",
       "      <th>GPS803</th>\n",
       "      <th>GPS770</th>\n",
       "    </tr>\n",
       "  </thead>\n",
       "  <tbody>\n",
       "    <tr>\n",
       "      <th>Mon</th>\n",
       "      <td>12</td>\n",
       "      <td>5</td>\n",
       "      <td>0</td>\n",
       "    </tr>\n",
       "    <tr>\n",
       "      <th>Tues</th>\n",
       "      <td>3</td>\n",
       "      <td>11</td>\n",
       "      <td>3</td>\n",
       "    </tr>\n",
       "    <tr>\n",
       "      <th>Wed</th>\n",
       "      <td>7</td>\n",
       "      <td>9</td>\n",
       "      <td>3</td>\n",
       "    </tr>\n",
       "    <tr>\n",
       "      <th>Thurs</th>\n",
       "      <td>5</td>\n",
       "      <td>2</td>\n",
       "      <td>4</td>\n",
       "    </tr>\n",
       "    <tr>\n",
       "      <th>Fri</th>\n",
       "      <td>7</td>\n",
       "      <td>6</td>\n",
       "      <td>8</td>\n",
       "    </tr>\n",
       "  </tbody>\n",
       "</table>\n",
       "</div>"
      ],
      "text/plain": [
       "       GPS601  GPS803  GPS770\n",
       "Mon        12       5       0\n",
       "Tues        3      11       3\n",
       "Wed         7       9       3\n",
       "Thurs       5       2       4\n",
       "Fri         7       6       8"
      ]
     },
     "execution_count": 53,
     "metadata": {},
     "output_type": "execute_result"
    }
   ],
   "source": [
    "Electronics_store"
   ]
  },
  {
   "cell_type": "code",
   "execution_count": 58,
   "id": "66337727",
   "metadata": {},
   "outputs": [
    {
     "data": {
      "text/plain": [
       "array([490, 540, 620])"
      ]
     },
     "execution_count": 58,
     "metadata": {},
     "output_type": "execute_result"
    }
   ],
   "source": [
    "# Generate Simple DataFrame to represent the price of each GPS type\n",
    "# so the index is the price and the feature is the GPS type name\n",
    "GPS_Price = np.array([490, 540, 620])\n",
    "GPS_Price"
   ]
  },
  {
   "cell_type": "code",
   "execution_count": 59,
   "id": "d1e77eb5",
   "metadata": {},
   "outputs": [
    {
     "ename": "ValueError",
     "evalue": "Shape of passed values is (3, 1), indices imply (1, 3)",
     "output_type": "error",
     "traceback": [
      "\u001b[1;31m---------------------------------------------------------------------------\u001b[0m",
      "\u001b[1;31mValueError\u001b[0m                                Traceback (most recent call last)",
      "\u001b[1;32m<ipython-input-59-cff55a887e3a>\u001b[0m in \u001b[0;36m<module>\u001b[1;34m\u001b[0m\n\u001b[0;32m      1\u001b[0m \u001b[1;31m# Generate the DataFrame itself:\u001b[0m\u001b[1;33m\u001b[0m\u001b[1;33m\u001b[0m\u001b[1;33m\u001b[0m\u001b[0m\n\u001b[1;32m----> 2\u001b[1;33m GPS_Prices = pd.DataFrame(\n\u001b[0m\u001b[0;32m      3\u001b[0m     \u001b[0mGPS_Price\u001b[0m\u001b[1;33m,\u001b[0m\u001b[1;33m\u001b[0m\u001b[1;33m\u001b[0m\u001b[0m\n\u001b[0;32m      4\u001b[0m     \u001b[0mindex\u001b[0m\u001b[1;33m=\u001b[0m\u001b[1;33m[\u001b[0m\u001b[1;34m\"Price\"\u001b[0m\u001b[1;33m]\u001b[0m\u001b[1;33m,\u001b[0m\u001b[1;33m\u001b[0m\u001b[1;33m\u001b[0m\u001b[0m\n\u001b[0;32m      5\u001b[0m     columns=[\"GPS601\", \"GPS803\", \"GPS770\"])\n",
      "\u001b[1;32mF:\\minicondaProject\\env\\lib\\site-packages\\pandas\\core\\frame.py\u001b[0m in \u001b[0;36m__init__\u001b[1;34m(self, data, index, columns, dtype, copy)\u001b[0m\n\u001b[0;32m    670\u001b[0m                 )\n\u001b[0;32m    671\u001b[0m             \u001b[1;32melse\u001b[0m\u001b[1;33m:\u001b[0m\u001b[1;33m\u001b[0m\u001b[1;33m\u001b[0m\u001b[0m\n\u001b[1;32m--> 672\u001b[1;33m                 mgr = ndarray_to_mgr(\n\u001b[0m\u001b[0;32m    673\u001b[0m                     \u001b[0mdata\u001b[0m\u001b[1;33m,\u001b[0m\u001b[1;33m\u001b[0m\u001b[1;33m\u001b[0m\u001b[0m\n\u001b[0;32m    674\u001b[0m                     \u001b[0mindex\u001b[0m\u001b[1;33m,\u001b[0m\u001b[1;33m\u001b[0m\u001b[1;33m\u001b[0m\u001b[0m\n",
      "\u001b[1;32mF:\\minicondaProject\\env\\lib\\site-packages\\pandas\\core\\internals\\construction.py\u001b[0m in \u001b[0;36mndarray_to_mgr\u001b[1;34m(values, index, columns, dtype, copy, typ)\u001b[0m\n\u001b[0;32m    322\u001b[0m     )\n\u001b[0;32m    323\u001b[0m \u001b[1;33m\u001b[0m\u001b[0m\n\u001b[1;32m--> 324\u001b[1;33m     \u001b[0m_check_values_indices_shape_match\u001b[0m\u001b[1;33m(\u001b[0m\u001b[0mvalues\u001b[0m\u001b[1;33m,\u001b[0m \u001b[0mindex\u001b[0m\u001b[1;33m,\u001b[0m \u001b[0mcolumns\u001b[0m\u001b[1;33m)\u001b[0m\u001b[1;33m\u001b[0m\u001b[1;33m\u001b[0m\u001b[0m\n\u001b[0m\u001b[0;32m    325\u001b[0m \u001b[1;33m\u001b[0m\u001b[0m\n\u001b[0;32m    326\u001b[0m     \u001b[1;32mif\u001b[0m \u001b[0mtyp\u001b[0m \u001b[1;33m==\u001b[0m \u001b[1;34m\"array\"\u001b[0m\u001b[1;33m:\u001b[0m\u001b[1;33m\u001b[0m\u001b[1;33m\u001b[0m\u001b[0m\n",
      "\u001b[1;32mF:\\minicondaProject\\env\\lib\\site-packages\\pandas\\core\\internals\\construction.py\u001b[0m in \u001b[0;36m_check_values_indices_shape_match\u001b[1;34m(values, index, columns)\u001b[0m\n\u001b[0;32m    391\u001b[0m         \u001b[0mpassed\u001b[0m \u001b[1;33m=\u001b[0m \u001b[0mvalues\u001b[0m\u001b[1;33m.\u001b[0m\u001b[0mshape\u001b[0m\u001b[1;33m\u001b[0m\u001b[1;33m\u001b[0m\u001b[0m\n\u001b[0;32m    392\u001b[0m         \u001b[0mimplied\u001b[0m \u001b[1;33m=\u001b[0m \u001b[1;33m(\u001b[0m\u001b[0mlen\u001b[0m\u001b[1;33m(\u001b[0m\u001b[0mindex\u001b[0m\u001b[1;33m)\u001b[0m\u001b[1;33m,\u001b[0m \u001b[0mlen\u001b[0m\u001b[1;33m(\u001b[0m\u001b[0mcolumns\u001b[0m\u001b[1;33m)\u001b[0m\u001b[1;33m)\u001b[0m\u001b[1;33m\u001b[0m\u001b[1;33m\u001b[0m\u001b[0m\n\u001b[1;32m--> 393\u001b[1;33m         \u001b[1;32mraise\u001b[0m \u001b[0mValueError\u001b[0m\u001b[1;33m(\u001b[0m\u001b[1;34mf\"Shape of passed values is {passed}, indices imply {implied}\"\u001b[0m\u001b[1;33m)\u001b[0m\u001b[1;33m\u001b[0m\u001b[1;33m\u001b[0m\u001b[0m\n\u001b[0m\u001b[0;32m    394\u001b[0m \u001b[1;33m\u001b[0m\u001b[0m\n\u001b[0;32m    395\u001b[0m \u001b[1;33m\u001b[0m\u001b[0m\n",
      "\u001b[1;31mValueError\u001b[0m: Shape of passed values is (3, 1), indices imply (1, 3)"
     ]
    }
   ],
   "source": [
    "# Generate the DataFrame itself:\n",
    "GPS_Prices = pd.DataFrame(\n",
    "    GPS_Price,\n",
    "    index=[\"Price\"],\n",
    "    columns=[\"GPS601\", \"GPS803\", \"GPS770\"])\n",
    "GPS_Prices"
   ]
  },
  {
   "cell_type": "code",
   "execution_count": 60,
   "id": "aa64cb9a",
   "metadata": {},
   "outputs": [
    {
     "data": {
      "text/plain": [
       "(3,)"
      ]
     },
     "execution_count": 60,
     "metadata": {},
     "output_type": "execute_result"
    }
   ],
   "source": [
    "# it says that shape of GPS_Price NumPy array is 3*1 !\n",
    "GPS_Price.shape"
   ]
  },
  {
   "cell_type": "code",
   "execution_count": 67,
   "id": "94f2a48c",
   "metadata": {},
   "outputs": [
    {
     "data": {
      "text/html": [
       "<div>\n",
       "<style scoped>\n",
       "    .dataframe tbody tr th:only-of-type {\n",
       "        vertical-align: middle;\n",
       "    }\n",
       "\n",
       "    .dataframe tbody tr th {\n",
       "        vertical-align: top;\n",
       "    }\n",
       "\n",
       "    .dataframe thead th {\n",
       "        text-align: right;\n",
       "    }\n",
       "</style>\n",
       "<table border=\"1\" class=\"dataframe\">\n",
       "  <thead>\n",
       "    <tr style=\"text-align: right;\">\n",
       "      <th></th>\n",
       "      <th>GPS601</th>\n",
       "      <th>GPS803</th>\n",
       "      <th>GPS770</th>\n",
       "    </tr>\n",
       "  </thead>\n",
       "  <tbody>\n",
       "    <tr>\n",
       "      <th>Price</th>\n",
       "      <td>490</td>\n",
       "      <td>540</td>\n",
       "      <td>620</td>\n",
       "    </tr>\n",
       "  </tbody>\n",
       "</table>\n",
       "</div>"
      ],
      "text/plain": [
       "       GPS601  GPS803  GPS770\n",
       "Price     490     540     620"
      ]
     },
     "execution_count": 67,
     "metadata": {},
     "output_type": "execute_result"
    }
   ],
   "source": [
    "# we need to handle the shape..\n",
    "# ==> GPS_Price.reshape(1,3)\n",
    "# then try to build the dataframe again\n",
    "GPS_Prices = pd.DataFrame(\n",
    "    GPS_Price.reshape(1,3),\n",
    "    index=[\"Price\"],\n",
    "    columns=[\"GPS601\", \"GPS803\", \"GPS770\"])\n",
    "GPS_Prices\n"
   ]
  },
  {
   "cell_type": "code",
   "execution_count": 68,
   "id": "4a82cce6",
   "metadata": {},
   "outputs": [
    {
     "data": {
      "text/plain": [
       "(5, 3)"
      ]
     },
     "execution_count": 68,
     "metadata": {},
     "output_type": "execute_result"
    }
   ],
   "source": [
    "# WOW!!!\n",
    "# our formula now to get the total_profit column for each day:\n",
    "# Monday_Profit = GPS601_Price * Number_Of_Sold_Items_From_GPS601_At_Monday + same at Tuesday + same as wednesday + ... +same as Friday\n",
    "\n",
    "#.. Lets Explore the shapes\n",
    "Electronics_store.shape"
   ]
  },
  {
   "cell_type": "code",
   "execution_count": 69,
   "id": "6047ab01",
   "metadata": {},
   "outputs": [
    {
     "data": {
      "text/plain": [
       "(1, 3)"
      ]
     },
     "execution_count": 69,
     "metadata": {},
     "output_type": "execute_result"
    }
   ],
   "source": [
    "GPS_Prices.shape"
   ]
  },
  {
   "cell_type": "code",
   "execution_count": 71,
   "id": "b2e0b1f9",
   "metadata": {},
   "outputs": [
    {
     "data": {
      "text/html": [
       "<div>\n",
       "<style scoped>\n",
       "    .dataframe tbody tr th:only-of-type {\n",
       "        vertical-align: middle;\n",
       "    }\n",
       "\n",
       "    .dataframe tbody tr th {\n",
       "        vertical-align: top;\n",
       "    }\n",
       "\n",
       "    .dataframe thead th {\n",
       "        text-align: right;\n",
       "    }\n",
       "</style>\n",
       "<table border=\"1\" class=\"dataframe\">\n",
       "  <thead>\n",
       "    <tr style=\"text-align: right;\">\n",
       "      <th></th>\n",
       "      <th>Price</th>\n",
       "    </tr>\n",
       "  </thead>\n",
       "  <tbody>\n",
       "    <tr>\n",
       "      <th>Mon</th>\n",
       "      <td>8580</td>\n",
       "    </tr>\n",
       "    <tr>\n",
       "      <th>Tues</th>\n",
       "      <td>9270</td>\n",
       "    </tr>\n",
       "    <tr>\n",
       "      <th>Wed</th>\n",
       "      <td>10150</td>\n",
       "    </tr>\n",
       "    <tr>\n",
       "      <th>Thurs</th>\n",
       "      <td>6010</td>\n",
       "    </tr>\n",
       "    <tr>\n",
       "      <th>Fri</th>\n",
       "      <td>11630</td>\n",
       "    </tr>\n",
       "  </tbody>\n",
       "</table>\n",
       "</div>"
      ],
      "text/plain": [
       "       Price\n",
       "Mon     8580\n",
       "Tues    9270\n",
       "Wed    10150\n",
       "Thurs   6010\n",
       "Fri    11630"
      ]
     },
     "execution_count": 71,
     "metadata": {},
     "output_type": "execute_result"
    }
   ],
   "source": [
    "# to apply matrix multiplication which is (dot product) in NumPy:\n",
    "# we need to transpose the GPS_Prices to be 3*1 ..\n",
    "total_sales = Electronics_store.dot(GPS_Prices.T)\n",
    "total_sales"
   ]
  },
  {
   "cell_type": "code",
   "execution_count": 73,
   "id": "4aca8fd3",
   "metadata": {},
   "outputs": [
    {
     "data": {
      "text/plain": [
       "pandas.core.frame.DataFrame"
      ]
     },
     "execution_count": 73,
     "metadata": {},
     "output_type": "execute_result"
    }
   ],
   "source": [
    "type(total_sales)"
   ]
  },
  {
   "cell_type": "code",
   "execution_count": 76,
   "id": "4e74ad9a",
   "metadata": {},
   "outputs": [],
   "source": [
    "# now we can add our new column to original dataframe\n",
    "Electronics_store[\"$ Total Sales\"] = total_sales"
   ]
  },
  {
   "cell_type": "code",
   "execution_count": 77,
   "id": "ac861f24",
   "metadata": {},
   "outputs": [
    {
     "data": {
      "text/html": [
       "<div>\n",
       "<style scoped>\n",
       "    .dataframe tbody tr th:only-of-type {\n",
       "        vertical-align: middle;\n",
       "    }\n",
       "\n",
       "    .dataframe tbody tr th {\n",
       "        vertical-align: top;\n",
       "    }\n",
       "\n",
       "    .dataframe thead th {\n",
       "        text-align: right;\n",
       "    }\n",
       "</style>\n",
       "<table border=\"1\" class=\"dataframe\">\n",
       "  <thead>\n",
       "    <tr style=\"text-align: right;\">\n",
       "      <th></th>\n",
       "      <th>GPS601</th>\n",
       "      <th>GPS803</th>\n",
       "      <th>GPS770</th>\n",
       "      <th>$ Total Sales</th>\n",
       "    </tr>\n",
       "  </thead>\n",
       "  <tbody>\n",
       "    <tr>\n",
       "      <th>Mon</th>\n",
       "      <td>12</td>\n",
       "      <td>5</td>\n",
       "      <td>0</td>\n",
       "      <td>8580</td>\n",
       "    </tr>\n",
       "    <tr>\n",
       "      <th>Tues</th>\n",
       "      <td>3</td>\n",
       "      <td>11</td>\n",
       "      <td>3</td>\n",
       "      <td>9270</td>\n",
       "    </tr>\n",
       "    <tr>\n",
       "      <th>Wed</th>\n",
       "      <td>7</td>\n",
       "      <td>9</td>\n",
       "      <td>3</td>\n",
       "      <td>10150</td>\n",
       "    </tr>\n",
       "    <tr>\n",
       "      <th>Thurs</th>\n",
       "      <td>5</td>\n",
       "      <td>2</td>\n",
       "      <td>4</td>\n",
       "      <td>6010</td>\n",
       "    </tr>\n",
       "    <tr>\n",
       "      <th>Fri</th>\n",
       "      <td>7</td>\n",
       "      <td>6</td>\n",
       "      <td>8</td>\n",
       "      <td>11630</td>\n",
       "    </tr>\n",
       "  </tbody>\n",
       "</table>\n",
       "</div>"
      ],
      "text/plain": [
       "       GPS601  GPS803  GPS770  $ Total Sales\n",
       "Mon        12       5       0           8580\n",
       "Tues        3      11       3           9270\n",
       "Wed         7       9       3          10150\n",
       "Thurs       5       2       4           6010\n",
       "Fri         7       6       8          11630"
      ]
     },
     "execution_count": 77,
     "metadata": {},
     "output_type": "execute_result"
    }
   ],
   "source": [
    "Electronics_store"
   ]
  },
  {
   "cell_type": "markdown",
   "id": "6c373fa5",
   "metadata": {},
   "source": [
    "# Practical Example..\n",
    "## In ML, we always need to convert whatever our data into numbers and provide these numbers to our model to train it, we can use NumPy to convert images into numbers, as each pixel has a color and each color has a number.."
   ]
  },
  {
   "cell_type": "code",
   "execution_count": 86,
   "id": "1f821458",
   "metadata": {},
   "outputs": [
    {
     "data": {
      "text/html": [
       "<img src=\"./panda.png\"/>"
      ],
      "text/plain": [
       "<IPython.core.display.Image object>"
      ]
     },
     "execution_count": 86,
     "metadata": {},
     "output_type": "execute_result"
    }
   ],
   "source": [
    "from IPython.display import Image\n",
    "#from IPython.core.display import HTML \n",
    "Image(url= \"./panda.png\")\n"
   ]
  },
  {
   "cell_type": "code",
   "execution_count": 89,
   "id": "3eb31608",
   "metadata": {},
   "outputs": [
    {
     "ename": "ModuleNotFoundError",
     "evalue": "No module named 'matplotlib'",
     "output_type": "error",
     "traceback": [
      "\u001b[1;31m---------------------------------------------------------------------------\u001b[0m",
      "\u001b[1;31mModuleNotFoundError\u001b[0m                       Traceback (most recent call last)",
      "\u001b[1;32m<ipython-input-89-e664c7cb09c9>\u001b[0m in \u001b[0;36m<module>\u001b[1;34m\u001b[0m\n\u001b[1;32m----> 1\u001b[1;33m \u001b[1;32mimport\u001b[0m \u001b[0mmatplotlib\u001b[0m\u001b[1;33m.\u001b[0m\u001b[0mimage\u001b[0m \u001b[1;32mas\u001b[0m \u001b[0mimread\u001b[0m\u001b[1;33m\u001b[0m\u001b[1;33m\u001b[0m\u001b[0m\n\u001b[0m\u001b[0;32m      2\u001b[0m \u001b[0mpanda\u001b[0m \u001b[1;33m=\u001b[0m \u001b[0mimread\u001b[0m\u001b[1;33m(\u001b[0m\u001b[1;34m'./panda.png'\u001b[0m\u001b[1;33m)\u001b[0m\u001b[1;33m\u001b[0m\u001b[1;33m\u001b[0m\u001b[0m\n\u001b[0;32m      3\u001b[0m \u001b[0mpanda\u001b[0m\u001b[1;33m\u001b[0m\u001b[1;33m\u001b[0m\u001b[0m\n",
      "\u001b[1;31mModuleNotFoundError\u001b[0m: No module named 'matplotlib'"
     ]
    }
   ],
   "source": [
    "\n",
    "panda = imread('./panda.png')\n",
    "panda\n"
   ]
  },
  {
   "cell_type": "code",
   "execution_count": null,
   "id": "3273b5a3",
   "metadata": {},
   "outputs": [],
   "source": []
  }
 ],
 "metadata": {
  "kernelspec": {
   "display_name": "Python 3",
   "language": "python",
   "name": "python3"
  },
  "language_info": {
   "codemirror_mode": {
    "name": "ipython",
    "version": 3
   },
   "file_extension": ".py",
   "mimetype": "text/x-python",
   "name": "python",
   "nbconvert_exporter": "python",
   "pygments_lexer": "ipython3",
   "version": "3.9.6"
  }
 },
 "nbformat": 4,
 "nbformat_minor": 5
}
